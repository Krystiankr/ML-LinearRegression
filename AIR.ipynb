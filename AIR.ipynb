{
 "cells": [
  {
   "cell_type": "code",
   "execution_count": 432,
   "id": "b7007156-d96f-4dfa-86ce-5a130ae6b7cf",
   "metadata": {},
   "outputs": [],
   "source": [
    "from random import seed\n",
    "from random import randrange\n",
    "from csv import reader\n",
    "\n",
    "# Load a CSV file\n",
    "def load_csv(filename):\n",
    "    dataset = list()\n",
    "    with open(filename, 'r') as file:\n",
    "        csv_reader = reader(file)\n",
    "        for row in csv_reader:\n",
    "            if not row:\n",
    "                continue\n",
    "            dataset.append(row)\n",
    "    return dataset\n",
    "\n",
    "df = load_csv('AirQualityUCI.csv')"
   ]
  },
  {
   "cell_type": "code",
   "execution_count": 433,
   "id": "4188e8cb-3c4e-4727-ad94-04ebdeab0070",
   "metadata": {},
   "outputs": [
    {
     "data": {
      "text/plain": [
       "[['Date;Time;CO(GT);PT08.S1(CO);NMHC(GT);C6H6(GT);PT08.S2(NMHC);NOx(GT);PT08.S3(NOx);NO2(GT);PT08.S4(NO2);PT08.S5(O3);T;RH;AH;;'],\n",
       " ['10/03/2004;18.00.00;2',\n",
       "  '6;1360;150;11',\n",
       "  '9;1046;166;1056;113;1692;1268;13',\n",
       "  '6;48',\n",
       "  '9;0',\n",
       "  '7578;;'],\n",
       " ['10/03/2004;19.00.00;2;1292;112;9',\n",
       "  '4;955;103;1174;92;1559;972;13',\n",
       "  '3;47',\n",
       "  '7;0',\n",
       "  '7255;;']]"
      ]
     },
     "execution_count": 433,
     "metadata": {},
     "output_type": "execute_result"
    }
   ],
   "source": [
    "df[:3]"
   ]
  },
  {
   "cell_type": "markdown",
   "id": "affad5f8-15ad-405a-99b9-ac6877047fbc",
   "metadata": {},
   "source": [
    "return prettify row in list type"
   ]
  },
  {
   "cell_type": "code",
   "execution_count": 434,
   "id": "7dae1288-1208-4b28-8215-df0141204064",
   "metadata": {},
   "outputs": [],
   "source": [
    "def row_from(dataset, index):\n",
    "    return '.'.join(dataset[index]).split(';')"
   ]
  },
  {
   "cell_type": "code",
   "execution_count": 450,
   "id": "6284affe-28c3-4398-908d-ca8b4fa07cdc",
   "metadata": {},
   "outputs": [
    {
     "name": "stdout",
     "output_type": "stream",
     "text": [
      "['Date', 'Time', 'CO(GT)', 'PT08.S1(CO)', 'NMHC(GT)', 'C6H6(GT)', 'PT08.S2(NMHC)', 'NOx(GT)', 'PT08.S3(NOx)', 'NO2(GT)', 'PT08.S4(NO2)', 'PT08.S5(O3)', 'T', 'RH', 'AH', '', '']\n",
      "['10/03/2004', '18.00.00', '2.6', '1360', '150', '11.9', '1046', '166', '1056', '113', '1692', '1268', '13.6', '48.9', '0.7578', '', '']\n",
      "['10/03/2004', '19.00.00', '2', '1292', '112', '9.4', '955', '103', '1174', '92', '1559', '972', '13.3', '47.7', '0.7255', '', '']\n"
     ]
    }
   ],
   "source": [
    "for i in range(3):\n",
    "    print(row_from(df, i))"
   ]
  },
  {
   "cell_type": "markdown",
   "id": "069935a9-011a-4e16-83c6-17d85323e5a9",
   "metadata": {},
   "source": [
    "I create a **dict** where the keys will be the columns"
   ]
  },
  {
   "cell_type": "code",
   "execution_count": 998,
   "id": "727745e1-6378-4ce9-a052-f120b3039b8e",
   "metadata": {},
   "outputs": [
    {
     "data": {
      "text/plain": [
       "{'Date': [],\n",
       " 'Time': [],\n",
       " 'CO(GT)': [],\n",
       " 'PT08.S1(CO)': [],\n",
       " 'NMHC(GT)': [],\n",
       " 'C6H6(GT)': [],\n",
       " 'PT08.S2(NMHC)': [],\n",
       " 'NOx(GT)': [],\n",
       " 'PT08.S3(NOx)': [],\n",
       " 'NO2(GT)': [],\n",
       " 'PT08.S4(NO2)': [],\n",
       " 'PT08.S5(O3)': [],\n",
       " 'T': [],\n",
       " 'RH': [],\n",
       " 'AH': []}"
      ]
     },
     "execution_count": 998,
     "metadata": {},
     "output_type": "execute_result"
    }
   ],
   "source": [
    "dict_col = {}\n",
    "counter = 0\n",
    "for el in df[0][0].split(';'):\n",
    "    if len(el) > 0:\n",
    "        dict_col[el] = []\n",
    "dict_col"
   ]
  },
  {
   "cell_type": "markdown",
   "id": "da2c1a36-e5d4-4c4b-abe9-d3126785c5ff",
   "metadata": {},
   "source": [
    "and the values in the given key correspond to the values for the respective columns"
   ]
  },
  {
   "cell_type": "code",
   "execution_count": 999,
   "id": "a16b5dcb-b9cf-4e43-b956-12f10fad8008",
   "metadata": {},
   "outputs": [],
   "source": [
    "for index, row in enumerate(df[1:]):\n",
    "    for column, value in zip(dict_col, row_from(df[1:], index)[:-2]):\n",
    "        dict_col[column].append(value)"
   ]
  },
  {
   "cell_type": "markdown",
   "id": "bfc97466-a6eb-4683-8c2a-4eb12f36d037",
   "metadata": {},
   "source": [
    "first 5 values for each column"
   ]
  },
  {
   "cell_type": "code",
   "execution_count": 1000,
   "id": "e29783f2-b9e7-4f52-aee1-7feebcffbd56",
   "metadata": {},
   "outputs": [
    {
     "name": "stdout",
     "output_type": "stream",
     "text": [
      "Date ['10/03/2004', '10/03/2004', '10/03/2004', '10/03/2004', '10/03/2004']\n",
      "Time ['18.00.00', '19.00.00', '20.00.00', '21.00.00', '22.00.00']\n",
      "CO(GT) ['2.6', '2', '2.2', '2.2', '1.6']\n",
      "PT08.S1(CO) ['1360', '1292', '1402', '1376', '1272']\n",
      "NMHC(GT) ['150', '112', '88', '80', '51']\n",
      "C6H6(GT) ['11.9', '9.4', '9.0', '9.2', '6.5']\n",
      "PT08.S2(NMHC) ['1046', '955', '939', '948', '836']\n",
      "NOx(GT) ['166', '103', '131', '172', '131']\n",
      "PT08.S3(NOx) ['1056', '1174', '1140', '1092', '1205']\n",
      "NO2(GT) ['113', '92', '114', '122', '116']\n",
      "PT08.S4(NO2) ['1692', '1559', '1555', '1584', '1490']\n",
      "PT08.S5(O3) ['1268', '972', '1074', '1203', '1110']\n",
      "T ['13.6', '13.3', '11.9', '11.0', '11.2']\n",
      "RH ['48.9', '47.7', '54.0', '60.0', '59.6']\n",
      "AH ['0.7578', '0.7255', '0.7502', '0.7867', '0.7888']\n"
     ]
    }
   ],
   "source": [
    "for key in dict_col:\n",
    "    print(key, dict_col[key][:5])"
   ]
  },
  {
   "cell_type": "markdown",
   "id": "1510b966-3bde-4f0f-b7de-7ae7051935fe",
   "metadata": {},
   "source": [
    "I see that the values in the list are of the type str, so I change int to int and float to float accordingly"
   ]
  },
  {
   "cell_type": "code",
   "execution_count": 522,
   "id": "b5a36c3b-bced-47cd-bc02-5d2d7ad0a89f",
   "metadata": {},
   "outputs": [],
   "source": [
    "int_columns = ['PT08.S1(CO)', 'NMHC(GT)', 'PT08.S2(NMHC)',\n",
    "                            'NOx(GT)', 'PT08.S3(NOx)', 'NO2(GT)', 'PT08.S4(NO2)',\n",
    "                            'PT08.S5(O3)']\n",
    "float_column = ['CO(GT)', 'C6H6(GT)', 'T', 'RH', 'AH']"
   ]
  },
  {
   "cell_type": "code",
   "execution_count": 1001,
   "id": "6d875c51-e840-4d1b-955c-3dc7cb9c3f38",
   "metadata": {},
   "outputs": [],
   "source": [
    "def col_to_int(column, skipped):\n",
    "    columns = []\n",
    "    for i, item in enumerate(column):\n",
    "        if len(item) >= 0 and item != '':\n",
    "            columns.append(int(item))\n",
    "        else:\n",
    "            skipped.append(i) \n",
    "    return columns\n",
    "    \n",
    "def col_to_float(column, skipped):\n",
    "    columns = []\n",
    "    for i, item in enumerate(column):\n",
    "        if len(item) >= 0 and item != '':\n",
    "            columns.append(float(item))\n",
    "        else:\n",
    "            skipped.append(i) \n",
    "    return columns"
   ]
  },
  {
   "cell_type": "code",
   "execution_count": 1002,
   "id": "af1e6133-a711-4b6a-9886-3935aec3128b",
   "metadata": {},
   "outputs": [],
   "source": [
    "skipped = []\n",
    "\n",
    "for name in int_columns:\n",
    "    dict_col[name] = col_to_int(dict_col[name], skipped)\n",
    "    \n",
    "for name in float_column:\n",
    "    dict_col[name] = col_to_float(dict_col[name], skipped)"
   ]
  },
  {
   "cell_type": "markdown",
   "id": "de389925-951a-4f8f-a6d4-9bde1e4ef83b",
   "metadata": {},
   "source": [
    "after conversion, also, I catch null rows(**skipped**), so I need to delete them from all columns"
   ]
  },
  {
   "cell_type": "code",
   "execution_count": 1003,
   "id": "663d7d2d-3ee8-4fb4-854a-5d9792e9caed",
   "metadata": {},
   "outputs": [
    {
     "name": "stdout",
     "output_type": "stream",
     "text": [
      "Date ['10/03/2004', '10/03/2004', '10/03/2004', '10/03/2004', '10/03/2004']\n",
      "Time ['18.00.00', '19.00.00', '20.00.00', '21.00.00', '22.00.00']\n",
      "CO(GT) [2.6, 2.0, 2.2, 2.2, 1.6]\n",
      "PT08.S1(CO) [1360, 1292, 1402, 1376, 1272]\n",
      "NMHC(GT) [150, 112, 88, 80, 51]\n",
      "C6H6(GT) [11.9, 9.4, 9.0, 9.2, 6.5]\n",
      "PT08.S2(NMHC) [1046, 955, 939, 948, 836]\n",
      "NOx(GT) [166, 103, 131, 172, 131]\n",
      "PT08.S3(NOx) [1056, 1174, 1140, 1092, 1205]\n",
      "NO2(GT) [113, 92, 114, 122, 116]\n",
      "PT08.S4(NO2) [1692, 1559, 1555, 1584, 1490]\n",
      "PT08.S5(O3) [1268, 972, 1074, 1203, 1110]\n",
      "T [13.6, 13.3, 11.9, 11.0, 11.2]\n",
      "RH [48.9, 47.7, 54.0, 60.0, 59.6]\n",
      "AH [0.7578, 0.7255, 0.7502, 0.7867, 0.7888]\n"
     ]
    }
   ],
   "source": [
    "for key in dict_col.keys():\n",
    "    print(key, dict_col[key][:5])"
   ]
  },
  {
   "cell_type": "code",
   "execution_count": 1004,
   "id": "328a9ffb-957d-4003-b21d-d79b272e8ba6",
   "metadata": {},
   "outputs": [
    {
     "name": "stdout",
     "output_type": "stream",
     "text": [
      "Column          Rows\n",
      "\n",
      "Date            9471\n",
      "Time            9471\n",
      "CO(GT)          9357\n",
      "PT08.S1(CO)     9357\n",
      "NMHC(GT)        9357\n",
      "C6H6(GT)        9357\n",
      "PT08.S2(NMHC)   9357\n",
      "NOx(GT)         9357\n",
      "PT08.S3(NOx)    9357\n",
      "NO2(GT)         9357\n",
      "PT08.S4(NO2)    9357\n",
      "PT08.S5(O3)     9357\n",
      "T               9357\n",
      "RH              9357\n",
      "AH              9357\n"
     ]
    }
   ],
   "source": [
    "print(\"%-15s\" %(\"Column\"), \"Rows\")\n",
    "print()\n",
    "for column in dict_col:\n",
    "    print(\"%-15s\" %(column), len(dict_col[column]))"
   ]
  },
  {
   "cell_type": "markdown",
   "id": "8383e1d3-e201-47ce-8f06-71b29a9c173c",
   "metadata": {},
   "source": [
    "As we can see above, I should remove unnecessary indexes from two columns, namely **\"Date\"** and **\"Time\"**"
   ]
  },
  {
   "cell_type": "code",
   "execution_count": 1005,
   "id": "04981d0e-2b90-4b2a-ae8b-01851887993a",
   "metadata": {},
   "outputs": [
    {
     "data": {
      "text/plain": [
       "1482"
      ]
     },
     "execution_count": 1005,
     "metadata": {},
     "output_type": "execute_result"
    }
   ],
   "source": [
    "len(skipped)"
   ]
  },
  {
   "cell_type": "markdown",
   "id": "ca2b19bf-6672-442d-88fd-1da920809b13",
   "metadata": {},
   "source": [
    "there are many values here that repeat, but when I do set (skipped) a few values are omitted"
   ]
  },
  {
   "cell_type": "code",
   "execution_count": 1006,
   "id": "93a7e372-0ab2-4497-847c-e6da7af5a823",
   "metadata": {},
   "outputs": [],
   "source": [
    "for index in skipped:\n",
    "    try:\n",
    "        dict_col['Date'].pop(index)\n",
    "    except Exception:\n",
    "        pass\n",
    "    \n",
    "    try:\n",
    "        dict_col['Time'].pop(index)\n",
    "    except Exception:\n",
    "        pass"
   ]
  },
  {
   "cell_type": "code",
   "execution_count": 1007,
   "id": "3a5497b7-6ed1-493c-9f5b-80e165907c8e",
   "metadata": {},
   "outputs": [
    {
     "name": "stdout",
     "output_type": "stream",
     "text": [
      "Column          Rows\n",
      "\n",
      "Date            9357\n",
      "Time            9357\n",
      "CO(GT)          9357\n",
      "PT08.S1(CO)     9357\n",
      "NMHC(GT)        9357\n",
      "C6H6(GT)        9357\n",
      "PT08.S2(NMHC)   9357\n",
      "NOx(GT)         9357\n",
      "PT08.S3(NOx)    9357\n",
      "NO2(GT)         9357\n",
      "PT08.S4(NO2)    9357\n",
      "PT08.S5(O3)     9357\n",
      "T               9357\n",
      "RH              9357\n",
      "AH              9357\n"
     ]
    }
   ],
   "source": [
    "print(\"%-15s\" %(\"Column\"), \"Rows\")\n",
    "print()\n",
    "for column in dict_col:\n",
    "    print(\"%-15s\" %(column), len(dict_col[column]))"
   ]
  },
  {
   "cell_type": "markdown",
   "id": "5a2300e6-8de6-4c45-a99c-7be787d4a44c",
   "metadata": {},
   "source": [
    "as we can see above, finally we have an equal number of lines and can start working"
   ]
  },
  {
   "cell_type": "markdown",
   "id": "beae629a-1002-48d4-bf97-55358c77309e",
   "metadata": {},
   "source": [
    "now I have my data ready to go, so check the correlations between each column to rule them out unnecessary columns"
   ]
  },
  {
   "cell_type": "markdown",
   "id": "3eea1a5f-3b52-4820-b986-84abcd3e7eaf",
   "metadata": {},
   "source": [
    "I will start with 3 columns so that it would be easier for me to visualize the correlations and individual patterns such as mean and std."
   ]
  },
  {
   "cell_type": "code",
   "execution_count": 1022,
   "id": "ca5ab741-bb62-45b4-84a5-5530353fa80f",
   "metadata": {},
   "outputs": [],
   "source": [
    "column_list = ['T', 'RH', 'AH']"
   ]
  },
  {
   "cell_type": "code",
   "execution_count": 816,
   "id": "d6eeef09-bf1b-4b9a-9646-582d4ae0d32e",
   "metadata": {},
   "outputs": [],
   "source": [
    "t = dict_col['T']\n",
    "rh = dict_col['RH']\n",
    "co = dict_col['CO(GT)']"
   ]
  },
  {
   "cell_type": "code",
   "execution_count": 390,
   "id": "a00e8e91-644a-4fe6-8026-0a9ba9a3546d",
   "metadata": {},
   "outputs": [],
   "source": [
    "def mean(values):\n",
    "    return sum(values)/len(values)"
   ]
  },
  {
   "cell_type": "code",
   "execution_count": 820,
   "id": "053765cf-8fbc-4b70-bc1c-73157ddae99e",
   "metadata": {},
   "outputs": [
    {
     "name": "stdout",
     "output_type": "stream",
     "text": [
      "mean 9.778305012290337\n",
      "mean 39.48537992946447\n",
      "mean -34.20752377898902\n"
     ]
    }
   ],
   "source": [
    "print('mean', mean(t))\n",
    "print('mean', mean(rh))\n",
    "print('mean', mean(co))"
   ]
  },
  {
   "cell_type": "code",
   "execution_count": 427,
   "id": "a0d6be01-e32f-487a-a8a1-4b7ed1ad4ccb",
   "metadata": {},
   "outputs": [],
   "source": [
    "def std(values, mean):\n",
    "    meter = sum([(val - mean)**2 for val in values])\n",
    "    denominator = len(values) - 1\n",
    "    return (meter / denominator) ** (1/2)"
   ]
  },
  {
   "cell_type": "code",
   "execution_count": 824,
   "id": "f07dda97-2f08-478b-b070-af5a57596ae0",
   "metadata": {},
   "outputs": [
    {
     "name": "stdout",
     "output_type": "stream",
     "text": [
      "std 43.20362306262309\n",
      "std 51.2161449717661\n",
      "std 77.65717034682939\n"
     ]
    }
   ],
   "source": [
    "print('std', std(t, mean(t)))\n",
    "print('std', std(rh, mean(rh)))\n",
    "print('std', std(co, mean(co)))"
   ]
  },
  {
   "cell_type": "code",
   "execution_count": 836,
   "id": "c7f43598-253a-4057-9b22-209eac330ebd",
   "metadata": {},
   "outputs": [],
   "source": [
    "def covariance(x, x_mean, y, y_mean):\n",
    "    x1 = [x_val-x_mean for x_val in x]\n",
    "    y1 = [y_val-y_mean for y_val in y]\n",
    "    c2 = sum([x1_v * y1_v for x1_v, y1_v in zip(x1, y1)])\n",
    "    val = (c2) * (1/(len(x)-1))\n",
    "    return val"
   ]
  },
  {
   "cell_type": "code",
   "execution_count": 837,
   "id": "76f23030-921a-45cb-abfc-ea68a0b6ed1a",
   "metadata": {},
   "outputs": [
    {
     "data": {
      "text/plain": [
       "1960.274612240891"
      ]
     },
     "execution_count": 837,
     "metadata": {},
     "output_type": "execute_result"
    }
   ],
   "source": [
    "covariance(t, mean(t), rh, mean(rh))"
   ]
  },
  {
   "cell_type": "code",
   "execution_count": 864,
   "id": "b2232872-e93c-4df9-bd7e-1505face4100",
   "metadata": {},
   "outputs": [],
   "source": [
    "def correlation(dataset_x, dataset_y):\n",
    "    cor = covariance(dataset_x, mean(dataset_x), dataset_y, mean(dataset_y))\n",
    "    std_val = std(dataset_x, mean(dataset_x)) * std(dataset_y, mean(dataset_y))\n",
    "    return round(cor/std_val, 2)"
   ]
  },
  {
   "cell_type": "code",
   "execution_count": 865,
   "id": "1479f5f1-7c60-482f-be06-8fb365b977c5",
   "metadata": {},
   "outputs": [
    {
     "data": {
      "text/plain": [
       "0.89"
      ]
     },
     "execution_count": 865,
     "metadata": {},
     "output_type": "execute_result"
    }
   ],
   "source": [
    "correlation(t, rh)"
   ]
  },
  {
   "cell_type": "code",
   "execution_count": 944,
   "id": "072b4b3d-16b6-408e-8120-cddaf140d81f",
   "metadata": {},
   "outputs": [],
   "source": [
    "# T, RH, AH \n",
    "def print_confusion_matrix(unique, matrix):\n",
    "    print('------(A)' + '\\t'.join(str(x) for x in unique))\n",
    "    print('(P)')\n",
    "    for i, x in enumerate(unique):\n",
    "        print(\"%-7s| %s\" % (x, '\\t'.join(str(x) for x in matrix[i])))\n",
    "    print()"
   ]
  },
  {
   "cell_type": "code",
   "execution_count": 1024,
   "id": "9eff1d4a-0f72-46f3-a7b4-84cb81cd032c",
   "metadata": {},
   "outputs": [],
   "source": [
    "def confusion_matrix(list_use):\n",
    "    matrix = [[1 if col1==col2 else correlation(dict_col[col1], dict_col[col2]) \\\n",
    "                       for col1 in column_list] \\\n",
    "                       for col2 in column_list]\n",
    "    print_confusion_matrix(list_use, matrix)\n",
    "\n",
    "    corr = matrix\n",
    "    mask = np.array([[i<=j for j in range(len(column_list))] \\\n",
    "                                            for i in range(len(column_list))])\n",
    "    cmap = sns.diverging_palette(230, 20, as_cmap=True)\n",
    "    _ = sns.heatmap(corr, mask=mask, cmap=cmap, vmax=1, \n",
    "                                  vmin=-1, center=0,annot=True,\n",
    "                                  square=True, linewidths=.5, cbar_kws={\"shrink\": .5}, fmt='.2f',\n",
    "                                  xticklabels=list_use, yticklabels=list_use)"
   ]
  },
  {
   "cell_type": "code",
   "execution_count": 1025,
   "id": "f46469a0-d11b-4e9f-9dd3-235dc5383a90",
   "metadata": {},
   "outputs": [
    {
     "name": "stdout",
     "output_type": "stream",
     "text": [
      "------(A)T\tRH\tAH\n",
      "(P)\n",
      "T      | 1\t0.89\t0.98\n",
      "RH     | 0.89\t1\t0.94\n",
      "AH     | 0.98\t0.94\t1\n",
      "\n"
     ]
    },
    {
     "data": {
      "image/png": "[encoded data removed]",
      "text/plain": [
       "<Figure size 1130.4x595.44 with 2 Axes>"
      ]
     },
     "metadata": {},
     "output_type": "display_data"
    }
   ],
   "source": [
    "confusion_matrix(column_list)"
   ]
  },
  {
   "cell_type": "code",
   "execution_count": 991,
   "id": "e1b7131f-5393-4c61-8ab0-3fb9a3f055cb",
   "metadata": {},
   "outputs": [],
   "source": [
    "def mapping(col):\n",
    "    dict_date = {}\n",
    "    for i, value in enumerate(set(col)):\n",
    "        dict_date[value] = i\n",
    "        \n",
    "    for i, element in enumerate(col):\n",
    "        col[i] = dict_date[element]"
   ]
  },
  {
   "cell_type": "code",
   "execution_count": 1013,
   "id": "d1a2375a-98ef-4ac3-9157-b98067478978",
   "metadata": {},
   "outputs": [],
   "source": [
    "mapping(dict_col['Date'])\n",
    "mapping(dict_col['Time'])"
   ]
  },
  {
   "cell_type": "code",
   "execution_count": 1014,
   "id": "7ff6bbe5-71c3-4372-bdc1-df56a5c90c8f",
   "metadata": {},
   "outputs": [
    {
     "name": "stdout",
     "output_type": "stream",
     "text": [
      "Date [6, 6, 6, 6, 6]\n",
      "Time [12, 2, 21, 1, 4]\n",
      "CO(GT) [2.6, 2.0, 2.2, 2.2, 1.6]\n",
      "PT08.S1(CO) [1360, 1292, 1402, 1376, 1272]\n",
      "NMHC(GT) [150, 112, 88, 80, 51]\n",
      "C6H6(GT) [11.9, 9.4, 9.0, 9.2, 6.5]\n",
      "PT08.S2(NMHC) [1046, 955, 939, 948, 836]\n",
      "NOx(GT) [166, 103, 131, 172, 131]\n",
      "PT08.S3(NOx) [1056, 1174, 1140, 1092, 1205]\n",
      "NO2(GT) [113, 92, 114, 122, 116]\n",
      "PT08.S4(NO2) [1692, 1559, 1555, 1584, 1490]\n",
      "PT08.S5(O3) [1268, 972, 1074, 1203, 1110]\n",
      "T [13.6, 13.3, 11.9, 11.0, 11.2]\n",
      "RH [48.9, 47.7, 54.0, 60.0, 59.6]\n",
      "AH [0.7578, 0.7255, 0.7502, 0.7867, 0.7888]\n"
     ]
    }
   ],
   "source": [
    "for key in dict_col.keys():\n",
    "    print(key, dict_col[key][:5])"
   ]
  },
  {
   "cell_type": "markdown",
   "id": "969fd2ba-b8ec-4547-bde4-6c26894c3643",
   "metadata": {},
   "source": [
    "everything is displayed properly so I'll go to all columns"
   ]
  },
  {
   "cell_type": "code",
   "execution_count": 1026,
   "id": "898342c7-0726-4507-b326-c2e773ccbc75",
   "metadata": {},
   "outputs": [
    {
     "data": {
      "text/plain": [
       "['Date',\n",
       " 'Time',\n",
       " 'CO(GT)',\n",
       " 'PT08.S1(CO)',\n",
       " 'NMHC(GT)',\n",
       " 'C6H6(GT)',\n",
       " 'PT08.S2(NMHC)',\n",
       " 'NOx(GT)',\n",
       " 'PT08.S3(NOx)',\n",
       " 'NO2(GT)',\n",
       " 'PT08.S4(NO2)',\n",
       " 'PT08.S5(O3)',\n",
       " 'T',\n",
       " 'RH',\n",
       " 'AH']"
      ]
     },
     "execution_count": 1026,
     "metadata": {},
     "output_type": "execute_result"
    }
   ],
   "source": [
    "column_list = [col for col in dict_col.keys()]\n",
    "column_list"
   ]
  },
  {
   "cell_type": "markdown",
   "id": "3ce12feb-5e19-45b5-ae78-e1bbbbb796dd",
   "metadata": {},
   "source": [
    "the date and time columns are of the type str, so I'm going to map these strings to numeric values"
   ]
  },
  {
   "cell_type": "code",
   "execution_count": 1027,
   "id": "29a4ee7a-875f-4bfa-ada5-50939edbdf6a",
   "metadata": {},
   "outputs": [
    {
     "name": "stdout",
     "output_type": "stream",
     "text": [
      "------(A)Date\tTime\tCO(GT)\tPT08.S1(CO)\tNMHC(GT)\tC6H6(GT)\tPT08.S2(NMHC)\tNOx(GT)\tPT08.S3(NOx)\tNO2(GT)\tPT08.S4(NO2)\tPT08.S5(O3)\tT\tRH\tAH\n",
      "(P)\n",
      "Date   | 1\t0.0\t-0.03\t0.01\t0.06\t0.0\t0.01\t-0.03\t0.01\t-0.03\t0.04\t-0.01\t0.01\t0.0\t0.0\n",
      "Time   | 0.0\t1\t0.04\t0.05\t0.01\t0.01\t0.07\t0.07\t-0.06\t0.06\t0.03\t0.05\t0.02\t-0.04\t-0.0\n",
      "CO(GT) | -0.03\t0.04\t1\t0.04\t0.13\t-0.03\t0.03\t0.53\t-0.09\t0.67\t-0.07\t0.08\t-0.07\t-0.05\t-0.05\n",
      "PT08.S1(CO)| 0.01\t0.05\t0.04\t1\t0.17\t0.85\t0.93\t0.28\t0.09\t0.15\t0.85\t0.89\t0.75\t0.75\t0.76\n",
      "NMHC(GT)| 0.06\t0.01\t0.13\t0.17\t1\t0.04\t0.11\t-0.0\t0.05\t0.1\t0.16\t0.1\t-0.0\t0.01\t0.01\n",
      "C6H6(GT)| 0.0\t0.01\t-0.03\t0.85\t0.04\t1\t0.77\t-0.0\t0.51\t-0.01\t0.77\t0.64\t0.97\t0.93\t0.98\n",
      "PT08.S2(NMHC)| 0.01\t0.07\t0.03\t0.93\t0.11\t0.77\t1\t0.33\t-0.07\t0.18\t0.87\t0.91\t0.67\t0.59\t0.65\n",
      "NOx(GT)| -0.03\t0.07\t0.53\t0.28\t-0.0\t-0.0\t0.33\t1\t-0.44\t0.82\t0.04\t0.46\t-0.14\t-0.05\t-0.1\n",
      "PT08.S3(NOx)| 0.01\t-0.06\t-0.09\t0.09\t0.05\t0.51\t-0.07\t-0.44\t1\t-0.26\t0.12\t-0.21\t0.59\t0.57\t0.62\n",
      "NO2(GT)| -0.03\t0.06\t0.67\t0.15\t0.1\t-0.01\t0.18\t0.82\t-0.26\t1\t-0.02\t0.25\t-0.08\t-0.08\t-0.06\n",
      "PT08.S4(NO2)| 0.04\t0.03\t-0.07\t0.85\t0.16\t0.77\t0.87\t0.04\t0.12\t-0.02\t1\t0.72\t0.76\t0.64\t0.69\n",
      "PT08.S5(O3)| -0.01\t0.05\t0.08\t0.89\t0.1\t0.64\t0.91\t0.46\t-0.21\t0.25\t0.72\t1\t0.5\t0.52\t0.52\n",
      "T      | 0.01\t0.02\t-0.07\t0.75\t-0.0\t0.97\t0.67\t-0.14\t0.59\t-0.08\t0.76\t0.5\t1\t0.89\t0.98\n",
      "RH     | 0.0\t-0.04\t-0.05\t0.75\t0.01\t0.93\t0.59\t-0.05\t0.57\t-0.08\t0.64\t0.52\t0.89\t1\t0.94\n",
      "AH     | 0.0\t-0.0\t-0.05\t0.76\t0.01\t0.98\t0.65\t-0.1\t0.62\t-0.06\t0.69\t0.52\t0.98\t0.94\t1\n",
      "\n"
     ]
    },
    {
     "data": {
      "image/png": "[encoded data removed]",
      "text/plain": [
       "<Figure size 1130.4x595.44 with 2 Axes>"
      ]
     },
     "metadata": {},
     "output_type": "display_data"
    }
   ],
   "source": [
    "confusion_matrix(column_list)"
   ]
  },
  {
   "cell_type": "code",
   "execution_count": 1020,
   "id": "458577a0-c204-4084-92bf-b5c53b4dba06",
   "metadata": {},
   "outputs": [
    {
     "data": {
      "text/plain": [
       "['Date',\n",
       " 'Time',\n",
       " 'CO(GT)',\n",
       " 'PT08.S1(CO)',\n",
       " 'NMHC(GT)',\n",
       " 'C6H6(GT)',\n",
       " 'PT08.S2(NMHC)',\n",
       " 'NOx(GT)',\n",
       " 'PT08.S3(NOx)',\n",
       " 'NO2(GT)',\n",
       " 'PT08.S4(NO2)',\n",
       " 'PT08.S5(O3)',\n",
       " 'T',\n",
       " 'RH',\n",
       " 'AH']"
      ]
     },
     "execution_count": 1020,
     "metadata": {},
     "output_type": "execute_result"
    }
   ],
   "source": [
    "column_list"
   ]
  },
  {
   "cell_type": "code",
   "execution_count": 986,
   "id": "f256432d-291f-4fb1-83ab-5bfa232348a4",
   "metadata": {},
   "outputs": [],
   "source": [
    "time = dict_col['Time']"
   ]
  },
  {
   "cell_type": "code",
   "execution_count": 987,
   "id": "c8f49736-8fd6-40f7-a246-992ce61cbf43",
   "metadata": {},
   "outputs": [
    {
     "data": {
      "text/plain": [
       "[6, 6, 6, 6, 6]"
      ]
     },
     "execution_count": 987,
     "metadata": {},
     "output_type": "execute_result"
    }
   ],
   "source": [
    "date[:5]"
   ]
  },
  {
   "cell_type": "code",
   "execution_count": 982,
   "id": "6614eb50-0605-4408-a514-0720a4540f40",
   "metadata": {},
   "outputs": [],
   "source": [
    "mapping(date)"
   ]
  },
  {
   "cell_type": "code",
   "execution_count": 989,
   "id": "1f6797f9-0776-42a0-825e-06ddad56930c",
   "metadata": {},
   "outputs": [],
   "source": [
    "mapping(time)"
   ]
  },
  {
   "cell_type": "code",
   "execution_count": null,
   "id": "1cdaf666-d593-4b52-8486-c42edd0ddb28",
   "metadata": {},
   "outputs": [],
   "source": []
  }
 ],
 "metadata": {
  "kernelspec": {
   "display_name": "Python 3",
   "language": "python",
   "name": "python3"
  },
  "language_info": {
   "codemirror_mode": {
    "name": "ipython",
    "version": 3
   },
   "file_extension": ".py",
   "mimetype": "text/x-python",
   "name": "python",
   "nbconvert_exporter": "python",
   "pygments_lexer": "ipython3",
   "version": "3.8.7"
  }
 },
 "nbformat": 4,
 "nbformat_minor": 5
}
