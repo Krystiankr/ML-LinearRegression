{
 "cells": [
  {
   "cell_type": "markdown",
   "id": "620c459e-2821-473a-b9bf-d5810c235ca5",
   "metadata": {},
   "source": [
    "# The task is to identify which gases are closely related to each other, **without without import any libraries!**!"
   ]
  },
  {
   "cell_type": "markdown",
   "id": "fece668e-005c-413c-a3bf-f7bc86298585",
   "metadata": {},
   "source": [
    "I start by loading the data from a file"
   ]
  },
  {
   "cell_type": "markdown",
   "id": "a8d09fa3-fedb-467c-be28-3be8c21c85f5",
   "metadata": {},
   "source": [
    "# Data analysis"
   ]
  },
  {
   "cell_type": "code",
   "execution_count": 1,
   "id": "e22b0055-be8e-4a7c-bc42-bb0c7da633d6",
   "metadata": {},
   "outputs": [
    {
     "data": {
      "text/plain": [
       "[['Date',\n",
       "  'Time',\n",
       "  'CO(GT)',\n",
       "  'PT08.S1(CO)',\n",
       "  'NMHC(GT)',\n",
       "  'C6H6(GT)',\n",
       "  'PT08.S2(NMHC)',\n",
       "  'NOx(GT)',\n",
       "  'PT08.S3(NOx)',\n",
       "  'NO2(GT)',\n",
       "  'PT08.S4(NO2)',\n",
       "  'PT08.S5(O3)',\n",
       "  'T',\n",
       "  'RH',\n",
       "  'AH',\n",
       "  ''],\n",
       " ['10/03/2004',\n",
       "  '18.00.00',\n",
       "  '2,6',\n",
       "  '1360',\n",
       "  '150',\n",
       "  '11,9',\n",
       "  '1046',\n",
       "  '166',\n",
       "  '1056',\n",
       "  '113',\n",
       "  '1692',\n",
       "  '1268',\n",
       "  '13,6',\n",
       "  '48,9',\n",
       "  '0,7578',\n",
       "  ''],\n",
       " ['10/03/2004',\n",
       "  '19.00.00',\n",
       "  '2',\n",
       "  '1292',\n",
       "  '112',\n",
       "  '9,4',\n",
       "  '955',\n",
       "  '103',\n",
       "  '1174',\n",
       "  '92',\n",
       "  '1559',\n",
       "  '972',\n",
       "  '13,3',\n",
       "  '47,7',\n",
       "  '0,7255',\n",
       "  '']]"
      ]
     },
     "execution_count": 1,
     "metadata": {},
     "output_type": "execute_result"
    }
   ],
   "source": [
    "with open(\"AirQualityUCI.csv\", \"r\") as f:\n",
    "    df = f.readlines()\n",
    "    \n",
    "df = [[row[:-2]] for row in df] # removal '\\n' \n",
    "df = [row[0].split(';') for row in df] # separating values with a separator ';'\n",
    "df[:3]"
   ]
  },
  {
   "cell_type": "markdown",
   "id": "bc57ceb6-ab50-4312-8a4d-47a69dcc5ce2",
   "metadata": {},
   "source": [
    "Our data has been loaded **successfully**."
   ]
  },
  {
   "cell_type": "markdown",
   "id": "03ae1aa1-33d8-4979-ac10-17e77e3aaf10",
   "metadata": {},
   "source": [
    "As we can see the function correctly separates the values."
   ]
  },
  {
   "cell_type": "markdown",
   "id": "86c00f1f-d3a3-49fb-97dc-247f1f08a823",
   "metadata": {},
   "source": [
    "Additionally, the next problem is that our data is **messed up**, so I'm going to list each column as a separate **dictionary** element with their corresponding values"
   ]
  },
  {
   "cell_type": "code",
   "execution_count": 2,
   "id": "727745e1-6378-4ce9-a052-f120b3039b8e",
   "metadata": {},
   "outputs": [
    {
     "data": {
      "text/plain": [
       "{'Date': [],\n",
       " 'Time': [],\n",
       " 'CO(GT)': [],\n",
       " 'PT08.S1(CO)': [],\n",
       " 'NMHC(GT)': [],\n",
       " 'C6H6(GT)': [],\n",
       " 'PT08.S2(NMHC)': [],\n",
       " 'NOx(GT)': [],\n",
       " 'PT08.S3(NOx)': [],\n",
       " 'NO2(GT)': [],\n",
       " 'PT08.S4(NO2)': [],\n",
       " 'PT08.S5(O3)': [],\n",
       " 'T': [],\n",
       " 'RH': [],\n",
       " 'AH': []}"
      ]
     },
     "execution_count": 2,
     "metadata": {},
     "output_type": "execute_result"
    }
   ],
   "source": [
    "dict_col = {}\n",
    "for el in df[0]:\n",
    "    if len(el) > 0:\n",
    "        dict_col[el] = []\n",
    "dict_col"
   ]
  },
  {
   "cell_type": "code",
   "execution_count": 3,
   "id": "a16b5dcb-b9cf-4e43-b956-12f10fad8008",
   "metadata": {},
   "outputs": [
    {
     "name": "stdout",
     "output_type": "stream",
     "text": [
      "First 5 values for each column\n",
      "\n",
      "Date ['10/03/2004', '10/03/2004', '10/03/2004', '10/03/2004', '10/03/2004']\n",
      "Time ['18.00.00', '19.00.00', '20.00.00', '21.00.00', '22.00.00']\n",
      "CO(GT) ['2,6', '2', '2,2', '2,2', '1,6']\n",
      "PT08.S1(CO) ['1360', '1292', '1402', '1376', '1272']\n",
      "NMHC(GT) ['150', '112', '88', '80', '51']\n",
      "C6H6(GT) ['11,9', '9,4', '9,0', '9,2', '6,5']\n",
      "PT08.S2(NMHC) ['1046', '955', '939', '948', '836']\n",
      "NOx(GT) ['166', '103', '131', '172', '131']\n",
      "PT08.S3(NOx) ['1056', '1174', '1140', '1092', '1205']\n",
      "NO2(GT) ['113', '92', '114', '122', '116']\n",
      "PT08.S4(NO2) ['1692', '1559', '1555', '1584', '1490']\n",
      "PT08.S5(O3) ['1268', '972', '1074', '1203', '1110']\n",
      "T ['13,6', '13,3', '11,9', '11,0', '11,2']\n",
      "RH ['48,9', '47,7', '54,0', '60,0', '59,6']\n",
      "AH ['0,7578', '0,7255', '0,7502', '0,7867', '0,7888']\n"
     ]
    }
   ],
   "source": [
    "for index, row in enumerate(df[1:]):\n",
    "    for column, value in zip(dict_col, df[1:][index]):\n",
    "        dict_col[column].append(value)\n",
    "        \n",
    "print(\"First 5 values for each column\\n\")\n",
    "for key in dict_col:\n",
    "    print(key, dict_col[key][:5])"
   ]
  },
  {
   "cell_type": "markdown",
   "id": "ff692342-c64d-429b-9cf3-1366b2c56a06",
   "metadata": {},
   "source": [
    "# Data Clean"
   ]
  },
  {
   "cell_type": "markdown",
   "id": "1955692b-c5dd-4ddd-8a68-4d02c9840ff1",
   "metadata": {},
   "source": [
    "At this point, I will list the columns that are gases and discard the columns that I do not need"
   ]
  },
  {
   "cell_type": "code",
   "execution_count": 24,
   "id": "79844ef4-097a-43ce-9bce-192a98c93ea5",
   "metadata": {},
   "outputs": [],
   "source": [
    "def print_columns(column):\n",
    "    print(\"Displaying column names in a nicer way\\n\")\n",
    "    for i, key in enumerate(column, start=1):\n",
    "        print(\"%-13s | %s\"%(key, '\\n' if i % 3 ==0 else \"\\t\"), end='')\n",
    "    print('\\n'+'Number of columns: ', len(column))\n",
    "    print(\"-\"*70)"
   ]
  },
  {
   "cell_type": "markdown",
   "id": "bfc97466-a6eb-4683-8c2a-4eb12f36d037",
   "metadata": {},
   "source": [
    "First 5 values for each gas column"
   ]
  },
  {
   "cell_type": "code",
   "execution_count": 25,
   "id": "857cf2d0-4dea-4008-ba65-555c872d3f0a",
   "metadata": {},
   "outputs": [
    {
     "name": "stdout",
     "output_type": "stream",
     "text": [
      "Displaying column names in a nicer way\n",
      "\n",
      "Date          | \tTime          | \tCO(GT)        | \n",
      "PT08.S1(CO)   | \tNMHC(GT)      | \tC6H6(GT)      | \n",
      "PT08.S2(NMHC) | \tNOx(GT)       | \tPT08.S3(NOx)  | \n",
      "NO2(GT)       | \tPT08.S4(NO2)  | \tPT08.S5(O3)   | \n",
      "T             | \tRH            | \tAH            | \n",
      "\n",
      "Number of columns:  15\n",
      "----------------------------------------------------------------------\n",
      "Displaying column names in a nicer way\n",
      "\n",
      "CO(GT)        | \tPT08.S1(CO)   | \tNMHC(GT)      | \n",
      "C6H6(GT)      | \tPT08.S2(NMHC) | \tNOx(GT)       | \n",
      "PT08.S3(NOx)  | \tNO2(GT)       | \tPT08.S4(NO2)  | \n",
      "PT08.S5(O3)   | \t\n",
      "Number of columns:  10\n",
      "----------------------------------------------------------------------\n"
     ]
    }
   ],
   "source": [
    "dict_gas = {}\n",
    "print_columns(dict_col)\n",
    "gases = ['CO(GT)', 'PT08.S1(CO)', 'NMHC(GT)', 'C6H6(GT)', 'PT08.S2(NMHC)', 'NOx(GT)', 'PT08.S3(NOx)', 'NO2(GT)', 'PT08.S4(NO2)', 'PT08.S5(O3)']\n",
    "\n",
    "for gas in gases:\n",
    "    dict_gas[gas] = dict_col[gas]\n",
    "\n",
    "print_columns(dict_gas)"
   ]
  },
  {
   "cell_type": "code",
   "execution_count": 6,
   "id": "78feab1f-7ebc-4985-bc58-a4687a77e88c",
   "metadata": {},
   "outputs": [
    {
     "data": {
      "text/plain": [
       "dict_keys(['CO(GT)', 'PT08.S1(CO)', 'NMHC(GT)', 'C6H6(GT)', 'PT08.S2(NMHC)', 'NOx(GT)', 'PT08.S3(NOx)', 'NO2(GT)', 'PT08.S4(NO2)', 'PT08.S5(O3)'])"
      ]
     },
     "execution_count": 6,
     "metadata": {},
     "output_type": "execute_result"
    }
   ],
   "source": [
    "dict_gas.keys()"
   ]
  },
  {
   "cell_type": "code",
   "execution_count": 7,
   "id": "e29783f2-b9e7-4f52-aee1-7feebcffbd56",
   "metadata": {},
   "outputs": [
    {
     "name": "stdout",
     "output_type": "stream",
     "text": [
      "CO(GT) ['2,6', '2', '2,2', '2,2', '1,6']\n",
      "PT08.S1(CO) ['1360', '1292', '1402', '1376', '1272']\n",
      "NMHC(GT) ['150', '112', '88', '80', '51']\n",
      "C6H6(GT) ['11,9', '9,4', '9,0', '9,2', '6,5']\n",
      "PT08.S2(NMHC) ['1046', '955', '939', '948', '836']\n",
      "NOx(GT) ['166', '103', '131', '172', '131']\n",
      "PT08.S3(NOx) ['1056', '1174', '1140', '1092', '1205']\n",
      "NO2(GT) ['113', '92', '114', '122', '116']\n",
      "PT08.S4(NO2) ['1692', '1559', '1555', '1584', '1490']\n",
      "PT08.S5(O3) ['1268', '972', '1074', '1203', '1110']\n"
     ]
    }
   ],
   "source": [
    "for key in dict_gas:\n",
    "    print(key, dict_gas[key][:5])"
   ]
  },
  {
   "cell_type": "markdown",
   "id": "1510b966-3bde-4f0f-b7de-7ae7051935fe",
   "metadata": {},
   "source": [
    "I see that the values in the list are of the type str, so I change int to int and float to float accordingly"
   ]
  },
  {
   "cell_type": "code",
   "execution_count": 8,
   "id": "c9e866de-e611-476c-8b40-11531d014e65",
   "metadata": {},
   "outputs": [
    {
     "name": "stdout",
     "output_type": "stream",
     "text": [
      "Before convert\n",
      "Column        Len(Column)\n",
      "CO(GT)        9471\n",
      "PT08.S1(CO)   9471\n",
      "NMHC(GT)      9471\n",
      "C6H6(GT)      9471\n",
      "PT08.S2(NMHC) 9471\n",
      "NOx(GT)       9471\n",
      "PT08.S3(NOx)  9471\n",
      "NO2(GT)       9471\n",
      "PT08.S4(NO2)  9471\n",
      "PT08.S5(O3)   9471\n"
     ]
    }
   ],
   "source": [
    "print(\"Before convert\")\n",
    "print(\"%-13s %s\" %(\"Column\", \"Len(Column)\"))\n",
    "for key in dict_gas.keys():\n",
    "    print(\"%-13s\" %key, len(dict_gas[key]))"
   ]
  },
  {
   "cell_type": "code",
   "execution_count": 9,
   "id": "b5a36c3b-bced-47cd-bc02-5d2d7ad0a89f",
   "metadata": {},
   "outputs": [],
   "source": [
    "int_columns = ['PT08.S1(CO)', 'NMHC(GT)', 'PT08.S2(NMHC)',\n",
    "                            'NOx(GT)', 'PT08.S3(NOx)', 'NO2(GT)', 'PT08.S4(NO2)',\n",
    "                            'PT08.S5(O3)']\n",
    "float_column = ['CO(GT)', 'C6H6(GT)']"
   ]
  },
  {
   "cell_type": "code",
   "execution_count": 10,
   "id": "6d875c51-e840-4d1b-955c-3dc7cb9c3f38",
   "metadata": {},
   "outputs": [],
   "source": [
    "def col_to_int(column, skipped):\n",
    "    columns = []\n",
    "    for i, item in enumerate(column):\n",
    "        if len(item) >= 0 and item != '':\n",
    "            columns.append(int(item))\n",
    "        else:\n",
    "            skipped.append(i) \n",
    "    return columns\n",
    "    \n",
    "def col_to_float(column, skipped):\n",
    "    columns = []\n",
    "    for i, item in enumerate(column):\n",
    "        item = item.replace(',', '.')\n",
    "        if len(item) >= 0 and item != '':\n",
    "            columns.append(float(item))\n",
    "        else:\n",
    "            skipped.append(i) \n",
    "    return columns"
   ]
  },
  {
   "cell_type": "code",
   "execution_count": 11,
   "id": "696e20fa-5184-48d0-9dc0-5ec06229064c",
   "metadata": {},
   "outputs": [],
   "source": [
    "skipped = []\n",
    "\n",
    "for name in int_columns:\n",
    "    dict_gas[name] = col_to_int(dict_gas[name], skipped)\n",
    "    \n",
    "for name in float_column:\n",
    "    dict_gas[name] = col_to_float(dict_gas[name], skipped)"
   ]
  },
  {
   "cell_type": "code",
   "execution_count": 12,
   "id": "dff25a1d-ea93-415e-8a4d-a8e7134e46a6",
   "metadata": {},
   "outputs": [
    {
     "name": "stdout",
     "output_type": "stream",
     "text": [
      "After convert\n",
      "Column        Len(Column)\n",
      "CO(GT)        9357\n",
      "PT08.S1(CO)   9357\n",
      "NMHC(GT)      9357\n",
      "C6H6(GT)      9357\n",
      "PT08.S2(NMHC) 9357\n",
      "NOx(GT)       9357\n",
      "PT08.S3(NOx)  9357\n",
      "NO2(GT)       9357\n",
      "PT08.S4(NO2)  9357\n",
      "PT08.S5(O3)   9357\n"
     ]
    }
   ],
   "source": [
    "print(\"After convert\")\n",
    "print(\"%-13s %s\" %(\"Column\", \"Len(Column)\"))\n",
    "for key in dict_gas.keys():\n",
    "    print(\"%-13s\" %key, len(dict_gas[key]))"
   ]
  },
  {
   "cell_type": "markdown",
   "id": "5a6604e0-01e8-4949-a156-9226ea831771",
   "metadata": {},
   "source": [
    "As we can see some we lost some rows due to missing values"
   ]
  },
  {
   "cell_type": "markdown",
   "id": "aebf0908-e063-4b28-96ab-f85638f79384",
   "metadata": {},
   "source": [
    "# Computing correlation between columns"
   ]
  },
  {
   "cell_type": "markdown",
   "id": "9dbdfa14-a38e-4899-9e8c-cbae5dde681f",
   "metadata": {},
   "source": [
    "Below I am going to define a few functions such as **mean**, **standard deviation**, **covariance**, **correlation** (simple linear regression) in order to use them to calculate the **relationship** between each other"
   ]
  },
  {
   "cell_type": "code",
   "execution_count": 13,
   "id": "a00e8e91-644a-4fe6-8026-0a9ba9a3546d",
   "metadata": {},
   "outputs": [],
   "source": [
    "def mean(values):\n",
    "    return sum(values)/len(values)"
   ]
  },
  {
   "cell_type": "code",
   "execution_count": 14,
   "id": "a0d6be01-e32f-487a-a8a1-4b7ed1ad4ccb",
   "metadata": {},
   "outputs": [],
   "source": [
    "def std(values, mean):\n",
    "    meter = sum([(val - mean)**2 for val in values])\n",
    "    denominator = len(values) - 1\n",
    "    return (meter / denominator) ** (1/2)"
   ]
  },
  {
   "cell_type": "code",
   "execution_count": 15,
   "id": "c7f43598-253a-4057-9b22-209eac330ebd",
   "metadata": {},
   "outputs": [],
   "source": [
    "def covariance(x, x_mean, y, y_mean):\n",
    "    x1 = [x_val-x_mean for x_val in x]\n",
    "    y1 = [y_val-y_mean for y_val in y]\n",
    "    c2 = sum([x1_v * y1_v for x1_v, y1_v in zip(x1, y1)])\n",
    "    val = (c2) * (1/(len(x)-1))\n",
    "    return val"
   ]
  },
  {
   "cell_type": "code",
   "execution_count": 16,
   "id": "b2232872-e93c-4df9-bd7e-1505face4100",
   "metadata": {},
   "outputs": [],
   "source": [
    "# simple linear regression\n",
    "def correlation(dataset_x, dataset_y):\n",
    "    cor = covariance(dataset_x, mean(dataset_x), dataset_y, mean(dataset_y))\n",
    "    std_val = std(dataset_x, mean(dataset_x)) * std(dataset_y, mean(dataset_y))\n",
    "    return round(cor/std_val, 2)"
   ]
  },
  {
   "cell_type": "code",
   "execution_count": 17,
   "id": "461f483e-8877-45d2-9178-decf675b1e29",
   "metadata": {},
   "outputs": [],
   "source": [
    "def format_col(name):\n",
    "    return name.split('(')[1][:-1] if name[:1] == \"P\" else name.split('(')[0]"
   ]
  },
  {
   "cell_type": "code",
   "execution_count": 18,
   "id": "b08aded3-b980-4e27-a870-dcc7153e75e9",
   "metadata": {},
   "outputs": [],
   "source": [
    "def print_confusion_matrix(unique, matrix):\n",
    "    print('  (A)|\\t' + '\\t'.join(format_col(x) for x in unique))\n",
    "    print('_'*84)\n",
    "    print('(P)')\n",
    "    for i, x in enumerate(unique):\n",
    "        print(\"%-5s|\\t%s\" % (format_col(x), '\\t'.join(str(x) for x in matrix[i])))\n",
    "    print()"
   ]
  },
  {
   "cell_type": "code",
   "execution_count": 19,
   "id": "155372a3-f072-4bac-893e-c29fe1859245",
   "metadata": {},
   "outputs": [
    {
     "name": "stdout",
     "output_type": "stream",
     "text": [
      "  (A)|\tCO\tCO\tNMHC\tC6H6\tNMHC\tNOx\tNOx\tNO2\tNO2\tO3\n",
      "____________________________________________________________________________________\n",
      "(P)\n",
      "CO   |\t1\t0.04\t0.13\t-0.03\t0.03\t0.53\t-0.09\t0.67\t-0.07\t0.08\n",
      "CO   |\t0.04\t1\t0.17\t0.85\t0.93\t0.28\t0.09\t0.15\t0.85\t0.89\n",
      "NMHC |\t0.13\t0.17\t1\t0.04\t0.11\t-0.0\t0.05\t0.1\t0.16\t0.1\n",
      "C6H6 |\t-0.03\t0.85\t0.04\t1\t0.77\t-0.0\t0.51\t-0.01\t0.77\t0.64\n",
      "NMHC |\t0.03\t0.93\t0.11\t0.77\t1\t0.33\t-0.07\t0.18\t0.87\t0.91\n",
      "NOx  |\t0.53\t0.28\t-0.0\t-0.0\t0.33\t1\t-0.44\t0.82\t0.04\t0.46\n",
      "NOx  |\t-0.09\t0.09\t0.05\t0.51\t-0.07\t-0.44\t1\t-0.26\t0.12\t-0.21\n",
      "NO2  |\t0.67\t0.15\t0.1\t-0.01\t0.18\t0.82\t-0.26\t1\t-0.02\t0.25\n",
      "NO2  |\t-0.07\t0.85\t0.16\t0.77\t0.87\t0.04\t0.12\t-0.02\t1\t0.72\n",
      "O3   |\t0.08\t0.89\t0.1\t0.64\t0.91\t0.46\t-0.21\t0.25\t0.72\t1\n",
      "\n"
     ]
    }
   ],
   "source": [
    "list_use = dict_gas.keys()\n",
    "matrix = []\n",
    "corr_dict = {}\n",
    "\n",
    "for col1 in list_use:\n",
    "    row = []\n",
    "    for col2 in list_use:\n",
    "        if col1==col2:\n",
    "            row.append(1)\n",
    "        else:\n",
    "            cols = sorted([col1, col2])\n",
    "            cor = correlation(dict_gas[col1], dict_gas[col2])\n",
    "            if tuple(cols) not in corr_dict.keys():\n",
    "                corr_dict[tuple(cols)] = cor\n",
    "            row.append(cor)\n",
    "    matrix.append(row)\n",
    "\n",
    "print_confusion_matrix(dict_gas.keys(), matrix)"
   ]
  },
  {
   "cell_type": "code",
   "execution_count": 20,
   "id": "f0362793-778e-4009-abd0-97b131c0cdfc",
   "metadata": {},
   "outputs": [
    {
     "name": "stdout",
     "output_type": "stream",
     "text": [
      "CO\tNMHC\t =\t0.93\n",
      "NMHC\tO3\t =\t0.91\n",
      "CO\tO3\t =\t0.89\n",
      "NMHC\tNO2\t =\t0.87\n",
      "C6H6\tCO\t =\t0.85\n",
      "CO\tNO2\t =\t0.85\n",
      "NO2\tNOx\t =\t0.82\n",
      "C6H6\tNMHC\t =\t0.77\n",
      "C6H6\tNO2\t =\t0.77\n",
      "NO2\tO3\t =\t0.72\n",
      "CO\tNO2\t =\t0.67\n",
      "C6H6\tO3\t =\t0.64\n"
     ]
    }
   ],
   "source": [
    "corr_dict = dict(sorted(corr_dict.items(), key=lambda item: item[1], reverse=True))\n",
    "for col in corr_dict.keys():\n",
    "    actual_cor = corr_dict[col]\n",
    "    if actual_cor > 0.6:\n",
    "        print(format_col(col[0]), end='\\t')\n",
    "        print(format_col(col[1]), end='\\t =\\t')\n",
    "        print(actual_cor)"
   ]
  },
  {
   "cell_type": "markdown",
   "id": "4629d2a4-10b6-4af2-bb72-7d180a26ef77",
   "metadata": {},
   "source": [
    "As we can see a few columns are strongly related to each other, in this we can distinguish five highest correlations:\n",
    "- `0.93`**(CO-NMHC)** \n",
    "- `0.91`**(NMHC-O3)** \n",
    "- `0.89`**(CO-O3)** \n",
    "- `0.87`**(NMHC-NO2)** \n",
    "- `0.85`**(C6H6-CO)** "
   ]
  },
  {
   "cell_type": "markdown",
   "id": "2a9d49f8-cc26-4c84-ae9c-6a8cb7bf4088",
   "metadata": {},
   "source": [
    "So we can get rid of the **CO** sensor because it has a high correlation with many other sensors like **NMHC, O3, C6H6** and measurements will also be good"
   ]
  },
  {
   "cell_type": "markdown",
   "id": "fd82cebc-46bc-4eb5-ab16-81916a0d706c",
   "metadata": {},
   "source": [
    "# Quick check with ready-made libraries"
   ]
  },
  {
   "cell_type": "code",
   "execution_count": 21,
   "id": "ac939c5a-055c-4867-8c18-b79e0a947454",
   "metadata": {},
   "outputs": [
    {
     "data": {
      "image/png": "[encoded data removed]",
      "text/plain": [
       "<Figure size 1130.4x595.44 with 2 Axes>"
      ]
     },
     "metadata": {},
     "output_type": "display_data"
    }
   ],
   "source": [
    "import pandas as pd\n",
    "import numpy as np\n",
    "import seaborn as sns\n",
    "\n",
    "df = pd.read_csv('AirQualityUCI.csv', sep=';')\n",
    "df = df[['Date', 'Time', 'CO(GT)', 'PT08.S1(CO)', 'NMHC(GT)', 'C6H6(GT)',\n",
    "       'PT08.S2(NMHC)', 'NOx(GT)', 'PT08.S3(NOx)', 'NO2(GT)', 'PT08.S4(NO2)',\n",
    "       'PT08.S5(O3)', 'T', 'RH', 'AH']]\n",
    "df['T'] = df['T'].str.replace(',', '.').astype('float32')\n",
    "df['RH'] = df['RH'].str.replace(',', '.').astype('float32')\n",
    "df['AH'] = df['AH'].str.replace(',', '.').astype('float32')\n",
    "df['CO(GT)'] = df['CO(GT)'].str.replace(',', '.').astype('float32')\n",
    "df['C6H6(GT)'] = df['C6H6(GT)'].str.replace(',', '.').astype('float32')\n",
    "df = df.dropna()\n",
    "df = df.drop(columns=['Date', 'Time', 'T', 'AH', 'RH'])\n",
    "\n",
    "corr = df.corr()\n",
    "mask = np.triu(np.ones_like(corr, dtype=bool))\n",
    "cmap = sns.diverging_palette(230, 20, as_cmap=True)\n",
    "sns.set(rc={'figure.figsize':(15.7,8.27)})\n",
    "_ = sns.heatmap(corr, mask=mask, cmap=cmap, vmax=1, vmin=-1, center=0,\n",
    "            square=True, linewidths=.5, cbar_kws={\"shrink\": .5}, annot=True)\n"
   ]
  },
  {
   "cell_type": "markdown",
   "id": "c3229822-60fd-4001-9807-a07ccd876b61",
   "metadata": {},
   "source": [
    "Everything looks like the results of the finished library are close to mine."
   ]
  }
 ],
 "metadata": {
  "kernelspec": {
   "display_name": "Python 3",
   "language": "python",
   "name": "python3"
  },
  "language_info": {
   "codemirror_mode": {
    "name": "ipython",
    "version": 3
   },
   "file_extension": ".py",
   "mimetype": "text/x-python",
   "name": "python",
   "nbconvert_exporter": "python",
   "pygments_lexer": "ipython3",
   "version": "3.8.7"
  }
 },
 "nbformat": 4,
 "nbformat_minor": 5
}
